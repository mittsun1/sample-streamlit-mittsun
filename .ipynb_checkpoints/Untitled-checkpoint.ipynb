{
 "cells": [
  {
   "cell_type": "code",
   "execution_count": 1,
   "id": "1a5a85ad",
   "metadata": {},
   "outputs": [],
   "source": [
    "import pandas as pd"
   ]
  },
  {
   "cell_type": "code",
   "execution_count": 18,
   "id": "34502fcb",
   "metadata": {},
   "outputs": [],
   "source": [
    "csv_path = 'candidates.csv'"
   ]
  },
  {
   "cell_type": "code",
   "execution_count": 10,
   "id": "3a804d93",
   "metadata": {},
   "outputs": [],
   "source": [
    "df = pd.read_csv(csv_path)"
   ]
  },
  {
   "cell_type": "code",
   "execution_count": 11,
   "id": "23e48498",
   "metadata": {},
   "outputs": [],
   "source": [
    "df.sort_values(by = '評価', ascending = False, inplace = True)"
   ]
  },
  {
   "cell_type": "code",
   "execution_count": 12,
   "id": "4aa0cb74",
   "metadata": {},
   "outputs": [],
   "source": [
    "assigned_dates = {}"
   ]
  },
  {
   "cell_type": "code",
   "execution_count": 17,
   "id": "cd9c4709",
   "metadata": {},
   "outputs": [],
   "source": [
    "def assign_interview_dates(csv_path):\n",
    "    df = pd.read_csv(csv_path)\n",
    "    df.sort_values(by = '評価', ascending = False, inplace = True)\n",
    "    \n",
    "    assigned_dates = {}\n",
    "    \n",
    "    for index, row in df.iterrows():\n",
    "        name = row['名前']\n",
    "        preferences = [row['第1候補日'], row['第2候補日'], row['第3候補日']]\n",
    "\n",
    "        for date in preferences:\n",
    "            if date not in assigned_dates:\n",
    "                assigned_dates[date] = name\n",
    "                break\n",
    "\n",
    "    return assigned_dates"
   ]
  },
  {
   "cell_type": "code",
   "execution_count": 19,
   "id": "b4eb0a36",
   "metadata": {},
   "outputs": [],
   "source": [
    "assigned_dates = assign_interview_dates(csv_path)"
   ]
  },
  {
   "cell_type": "code",
   "execution_count": 20,
   "id": "437e6c38",
   "metadata": {},
   "outputs": [
    {
     "name": "stdout",
     "output_type": "stream",
     "text": [
      "{'2023-06-02': '鈴木', '2023-06-01': '佐藤', '2023-06-03': '田中'}\n"
     ]
    }
   ],
   "source": [
    "print(assigned_dates)"
   ]
  },
  {
   "cell_type": "code",
   "execution_count": null,
   "id": "54e1faae",
   "metadata": {},
   "outputs": [],
   "source": []
  }
 ],
 "metadata": {
  "kernelspec": {
   "display_name": "Python 3 (ipykernel)",
   "language": "python",
   "name": "python3"
  },
  "language_info": {
   "codemirror_mode": {
    "name": "ipython",
    "version": 3
   },
   "file_extension": ".py",
   "mimetype": "text/x-python",
   "name": "python",
   "nbconvert_exporter": "python",
   "pygments_lexer": "ipython3",
   "version": "3.9.13"
  }
 },
 "nbformat": 4,
 "nbformat_minor": 5
}
